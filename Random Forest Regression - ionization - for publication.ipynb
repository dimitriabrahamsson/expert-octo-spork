{
 "cells": [
  {
   "cell_type": "code",
   "execution_count": 17,
   "metadata": {},
   "outputs": [],
   "source": [
    "# Import libraries\n",
    "import pandas as pd\n",
    "import numpy as np"
   ]
  },
  {
   "cell_type": "code",
   "execution_count": 18,
   "metadata": {},
   "outputs": [],
   "source": [
    "# Read dataset\n",
    "dataset = pd.read_csv('ion_entact_pos.csv')\n",
    "dataset = dataset.select_dtypes([np.number])"
   ]
  },
  {
   "cell_type": "code",
   "execution_count": 19,
   "metadata": {},
   "outputs": [
    {
     "data": {
      "text/html": [
       "<div>\n",
       "<style scoped>\n",
       "    .dataframe tbody tr th:only-of-type {\n",
       "        vertical-align: middle;\n",
       "    }\n",
       "\n",
       "    .dataframe tbody tr th {\n",
       "        vertical-align: top;\n",
       "    }\n",
       "\n",
       "    .dataframe thead th {\n",
       "        text-align: right;\n",
       "    }\n",
       "</style>\n",
       "<table border=\"1\" class=\"dataframe\">\n",
       "  <thead>\n",
       "    <tr style=\"text-align: right;\">\n",
       "      <th></th>\n",
       "      <th>mean_RT</th>\n",
       "      <th>n_Repeated_Hits</th>\n",
       "      <th>DTXSID_Isomer</th>\n",
       "      <th>Observed_Isomer</th>\n",
       "      <th>Isomer_Number</th>\n",
       "      <th>Isomer_Order</th>\n",
       "      <th>Questionable_Hit</th>\n",
       "      <th>Corrected_HighConc</th>\n",
       "      <th>Corrected_MidConc</th>\n",
       "      <th>Corrected_LowConc</th>\n",
       "      <th>...</th>\n",
       "      <th>RCHO</th>\n",
       "      <th>RCOR</th>\n",
       "      <th>RCOOH</th>\n",
       "      <th>RCOOR</th>\n",
       "      <th>ROR</th>\n",
       "      <th>RCCH</th>\n",
       "      <th>RCN</th>\n",
       "      <th>RINGS</th>\n",
       "      <th>AROMATIC</th>\n",
       "      <th>log_RF_Average</th>\n",
       "    </tr>\n",
       "  </thead>\n",
       "  <tbody>\n",
       "    <tr>\n",
       "      <td>0</td>\n",
       "      <td>3.23</td>\n",
       "      <td>1.0</td>\n",
       "      <td>0</td>\n",
       "      <td>0</td>\n",
       "      <td>NaN</td>\n",
       "      <td>NaN</td>\n",
       "      <td>0.0</td>\n",
       "      <td>0.49</td>\n",
       "      <td>0.122</td>\n",
       "      <td>0.024</td>\n",
       "      <td>...</td>\n",
       "      <td>0</td>\n",
       "      <td>0</td>\n",
       "      <td>0</td>\n",
       "      <td>0</td>\n",
       "      <td>0</td>\n",
       "      <td>0</td>\n",
       "      <td>0</td>\n",
       "      <td>1</td>\n",
       "      <td>1</td>\n",
       "      <td>7.55</td>\n",
       "    </tr>\n",
       "    <tr>\n",
       "      <td>1</td>\n",
       "      <td>5.70</td>\n",
       "      <td>1.0</td>\n",
       "      <td>0</td>\n",
       "      <td>0</td>\n",
       "      <td>NaN</td>\n",
       "      <td>NaN</td>\n",
       "      <td>0.0</td>\n",
       "      <td>0.49</td>\n",
       "      <td>0.122</td>\n",
       "      <td>0.024</td>\n",
       "      <td>...</td>\n",
       "      <td>0</td>\n",
       "      <td>0</td>\n",
       "      <td>0</td>\n",
       "      <td>0</td>\n",
       "      <td>0</td>\n",
       "      <td>0</td>\n",
       "      <td>0</td>\n",
       "      <td>1</td>\n",
       "      <td>1</td>\n",
       "      <td>7.71</td>\n",
       "    </tr>\n",
       "    <tr>\n",
       "      <td>2</td>\n",
       "      <td>1.80</td>\n",
       "      <td>4.0</td>\n",
       "      <td>0</td>\n",
       "      <td>0</td>\n",
       "      <td>NaN</td>\n",
       "      <td>NaN</td>\n",
       "      <td>0.0</td>\n",
       "      <td>0.49</td>\n",
       "      <td>0.122</td>\n",
       "      <td>0.024</td>\n",
       "      <td>...</td>\n",
       "      <td>0</td>\n",
       "      <td>0</td>\n",
       "      <td>0</td>\n",
       "      <td>0</td>\n",
       "      <td>0</td>\n",
       "      <td>0</td>\n",
       "      <td>0</td>\n",
       "      <td>1</td>\n",
       "      <td>1</td>\n",
       "      <td>7.54</td>\n",
       "    </tr>\n",
       "    <tr>\n",
       "      <td>3</td>\n",
       "      <td>5.12</td>\n",
       "      <td>1.0</td>\n",
       "      <td>0</td>\n",
       "      <td>0</td>\n",
       "      <td>NaN</td>\n",
       "      <td>NaN</td>\n",
       "      <td>0.0</td>\n",
       "      <td>0.49</td>\n",
       "      <td>0.122</td>\n",
       "      <td>0.024</td>\n",
       "      <td>...</td>\n",
       "      <td>0</td>\n",
       "      <td>0</td>\n",
       "      <td>0</td>\n",
       "      <td>1</td>\n",
       "      <td>0</td>\n",
       "      <td>0</td>\n",
       "      <td>0</td>\n",
       "      <td>4</td>\n",
       "      <td>3</td>\n",
       "      <td>6.91</td>\n",
       "    </tr>\n",
       "    <tr>\n",
       "      <td>4</td>\n",
       "      <td>3.24</td>\n",
       "      <td>1.0</td>\n",
       "      <td>0</td>\n",
       "      <td>0</td>\n",
       "      <td>NaN</td>\n",
       "      <td>NaN</td>\n",
       "      <td>0.0</td>\n",
       "      <td>0.49</td>\n",
       "      <td>0.122</td>\n",
       "      <td>0.024</td>\n",
       "      <td>...</td>\n",
       "      <td>0</td>\n",
       "      <td>0</td>\n",
       "      <td>1</td>\n",
       "      <td>0</td>\n",
       "      <td>0</td>\n",
       "      <td>0</td>\n",
       "      <td>0</td>\n",
       "      <td>3</td>\n",
       "      <td>3</td>\n",
       "      <td>7.04</td>\n",
       "    </tr>\n",
       "  </tbody>\n",
       "</table>\n",
       "<p>5 rows × 54 columns</p>\n",
       "</div>"
      ],
      "text/plain": [
       "   mean_RT  n_Repeated_Hits  DTXSID_Isomer  Observed_Isomer  Isomer_Number  \\\n",
       "0     3.23              1.0              0                0            NaN   \n",
       "1     5.70              1.0              0                0            NaN   \n",
       "2     1.80              4.0              0                0            NaN   \n",
       "3     5.12              1.0              0                0            NaN   \n",
       "4     3.24              1.0              0                0            NaN   \n",
       "\n",
       "   Isomer_Order  Questionable_Hit  Corrected_HighConc  Corrected_MidConc  \\\n",
       "0           NaN               0.0                0.49              0.122   \n",
       "1           NaN               0.0                0.49              0.122   \n",
       "2           NaN               0.0                0.49              0.122   \n",
       "3           NaN               0.0                0.49              0.122   \n",
       "4           NaN               0.0                0.49              0.122   \n",
       "\n",
       "   Corrected_LowConc  ...  RCHO  RCOR  RCOOH  RCOOR  ROR  RCCH  RCN  RINGS  \\\n",
       "0              0.024  ...     0     0      0      0    0     0    0      1   \n",
       "1              0.024  ...     0     0      0      0    0     0    0      1   \n",
       "2              0.024  ...     0     0      0      0    0     0    0      1   \n",
       "3              0.024  ...     0     0      0      1    0     0    0      4   \n",
       "4              0.024  ...     0     0      1      0    0     0    0      3   \n",
       "\n",
       "   AROMATIC  log_RF_Average  \n",
       "0         1            7.55  \n",
       "1         1            7.71  \n",
       "2         1            7.54  \n",
       "3         3            6.91  \n",
       "4         3            7.04  \n",
       "\n",
       "[5 rows x 54 columns]"
      ]
     },
     "execution_count": 19,
     "metadata": {},
     "output_type": "execute_result"
    }
   ],
   "source": [
    "dataset.head()"
   ]
  },
  {
   "cell_type": "code",
   "execution_count": 20,
   "metadata": {},
   "outputs": [
    {
     "data": {
      "text/plain": [
       "array(['mean_RT', 'n_Repeated_Hits', 'DTXSID_Isomer', 'Observed_Isomer',\n",
       "       'Isomer_Number', 'Isomer_Order', 'Questionable_Hit',\n",
       "       'Corrected_HighConc', 'Corrected_MidConc', 'Corrected_LowConc',\n",
       "       'mean_High_Intensity', 'mean_Mid_Intensity', 'mean_Low_Intensity',\n",
       "       'std_High_Intensity', 'std_Mid_Intensity', 'std_Low_Intensity',\n",
       "       'RF_HighConc', 'RF_MedConc', 'RF_LowConc', 'RF_Average', 'E QSPR',\n",
       "       'S QSPR', 'A QSPR', 'B QSPR', 'V', 'L QSPR', 'MW', 'Ncharges', 'C',\n",
       "       'Cl', 'N', 'O', 'S', 'F', 'P', 'H', 'Br', 'Si', 'I', 'RNH2',\n",
       "       'R2NH', 'R3N', 'ROPO3', 'ROH', 'RCHO', 'RCOR', 'RCOOH', 'RCOOR',\n",
       "       'ROR', 'RCCH', 'RCN', 'RINGS', 'AROMATIC', 'log_RF_Average'],\n",
       "      dtype=object)"
      ]
     },
     "execution_count": 20,
     "metadata": {},
     "output_type": "execute_result"
    }
   ],
   "source": [
    "dataset.columns.values"
   ]
  },
  {
   "cell_type": "code",
   "execution_count": 21,
   "metadata": {},
   "outputs": [],
   "source": [
    "X = dataset.loc[:, 'E QSPR':'AROMATIC'].values\n",
    "y = dataset.loc[:, 'log_RF_Average'].values"
   ]
  },
  {
   "cell_type": "code",
   "execution_count": 22,
   "metadata": {},
   "outputs": [
    {
     "data": {
      "text/plain": [
       "array([[1.29, 1.5 , 0.38, ..., 0.  , 1.  , 1.  ],\n",
       "       [1.34, 1.7 , 0.38, ..., 0.  , 1.  , 1.  ],\n",
       "       [1.38, 1.88, 0.27, ..., 0.  , 1.  , 1.  ],\n",
       "       ...,\n",
       "       [1.3 , 1.54, 0.  , ..., 0.  , 2.  , 2.  ],\n",
       "       [2.55, 3.08, 0.  , ..., 0.  , 4.  , 3.  ],\n",
       "       [2.08, 1.98, 0.26, ..., 0.  , 2.  , 2.  ]])"
      ]
     },
     "execution_count": 22,
     "metadata": {},
     "output_type": "execute_result"
    }
   ],
   "source": [
    "X"
   ]
  },
  {
   "cell_type": "code",
   "execution_count": 23,
   "metadata": {},
   "outputs": [],
   "source": [
    "# y-randomization - use only in y-randomization analysis\n",
    "#from sklearn.utils import shuffle\n",
    "#y = shuffle(y, random_state=4)"
   ]
  },
  {
   "cell_type": "code",
   "execution_count": 24,
   "metadata": {},
   "outputs": [],
   "source": [
    "# Split dataset into training and testing datasets\n",
    "from sklearn.model_selection import train_test_split\n",
    "\n",
    "X_train, X_test, y_train, y_test = train_test_split(X, y, test_size=0.2, random_state=None)"
   ]
  },
  {
   "cell_type": "code",
   "execution_count": 25,
   "metadata": {},
   "outputs": [],
   "source": [
    "# Normalize data\n",
    "from sklearn.preprocessing import StandardScaler\n",
    "\n",
    "sc = StandardScaler()\n",
    "X_train = sc.fit_transform(X_train)\n",
    "X_test = sc.transform(X_test)"
   ]
  },
  {
   "cell_type": "code",
   "execution_count": 26,
   "metadata": {},
   "outputs": [
    {
     "data": {
      "text/plain": [
       "RandomForestRegressor(bootstrap=True, criterion='mse', max_depth=None,\n",
       "                      max_features='auto', max_leaf_nodes=None,\n",
       "                      min_impurity_decrease=0.0, min_impurity_split=None,\n",
       "                      min_samples_leaf=1, min_samples_split=2,\n",
       "                      min_weight_fraction_leaf=0.0, n_estimators=200,\n",
       "                      n_jobs=None, oob_score=False, random_state=0, verbose=0,\n",
       "                      warm_start=False)"
      ]
     },
     "execution_count": 26,
     "metadata": {},
     "output_type": "execute_result"
    }
   ],
   "source": [
    "# Compile RF regressor\n",
    "from sklearn.ensemble import RandomForestRegressor\n",
    "\n",
    "regressor = RandomForestRegressor(n_estimators=200, random_state=0)\n",
    "regressor.fit(X_train, y_train)\n"
   ]
  },
  {
   "cell_type": "code",
   "execution_count": 27,
   "metadata": {},
   "outputs": [],
   "source": [
    "# Use model to make predictions for training set\n",
    "y_pred = regressor.predict(X_train).flatten()"
   ]
  },
  {
   "cell_type": "code",
   "execution_count": 28,
   "metadata": {},
   "outputs": [
    {
     "name": "stdout",
     "output_type": "stream",
     "text": [
      "Mean Absolute Error: 0.1279782082324455\n",
      "Mean Squared Error: 0.030770581452784496\n",
      "Root Mean Squared Error: 0.17541545385964286\n"
     ]
    }
   ],
   "source": [
    "# Calculate error statistics\n",
    "from sklearn import metrics\n",
    "\n",
    "print('Mean Absolute Error:', metrics.mean_absolute_error(y_train, y_pred))\n",
    "print('Mean Squared Error:', metrics.mean_squared_error(y_train, y_pred))\n",
    "print('Root Mean Squared Error:', np.sqrt(metrics.mean_squared_error(y_train, y_pred)))"
   ]
  },
  {
   "cell_type": "code",
   "execution_count": 29,
   "metadata": {},
   "outputs": [
    {
     "data": {
      "image/png": "[encoded data removed]",
      "text/plain": [
       "<Figure size 432x288 with 1 Axes>"
      ]
     },
     "metadata": {
      "needs_background": "light"
     },
     "output_type": "display_data"
    }
   ],
   "source": [
    "import matplotlib.pyplot as plt\n",
    "plt.scatter(y_train, y_pred)\n",
    "plt.xlabel('True Values')\n",
    "plt.ylabel('Predictions')\n",
    "plt.axis('equal')\n",
    "plt.xlim(plt.xlim())\n",
    "plt.ylim(plt.ylim())\n",
    "_ = plt.plot([-100, 100], [-100, 100])\n",
    "plt.show()"
   ]
  },
  {
   "cell_type": "code",
   "execution_count": 14,
   "metadata": {},
   "outputs": [
    {
     "name": "stdout",
     "output_type": "stream",
     "text": [
      "   predicted_values  true_values\n",
      "0           7.43375         7.39\n",
      "1           7.75860         8.17\n",
      "2           7.40210         7.48\n",
      "3           7.52670         7.71\n",
      "4           7.71005         8.04\n"
     ]
    }
   ],
   "source": [
    "# Export data into a dataframe\n",
    "import pandas as pd\n",
    "df = pd.DataFrame({'predicted_values':y_pred, 'true_values':y_train,})\n",
    "print(df.head())"
   ]
  },
  {
   "cell_type": "code",
   "execution_count": 477,
   "metadata": {},
   "outputs": [],
   "source": [
    "# Print data into a csv file\n",
    "df.to_csv('forest_plus_tr_1.csv')"
   ]
  },
  {
   "cell_type": "code",
   "execution_count": 30,
   "metadata": {},
   "outputs": [],
   "source": [
    "# Use model to make predictions for the testing set\n",
    "y_pred = regressor.predict(X_test).flatten()"
   ]
  },
  {
   "cell_type": "code",
   "execution_count": 31,
   "metadata": {},
   "outputs": [
    {
     "name": "stdout",
     "output_type": "stream",
     "text": [
      "Mean Absolute Error: 0.30357884615384595\n",
      "Mean Squared Error: 0.18309211100961495\n",
      "Root Mean Squared Error: 0.42789263958335966\n"
     ]
    }
   ],
   "source": [
    "from sklearn import metrics\n",
    "\n",
    "print('Mean Absolute Error:', metrics.mean_absolute_error(y_test, y_pred))\n",
    "print('Mean Squared Error:', metrics.mean_squared_error(y_test, y_pred))\n",
    "print('Root Mean Squared Error:', np.sqrt(metrics.mean_squared_error(y_test, y_pred)))"
   ]
  },
  {
   "cell_type": "code",
   "execution_count": 32,
   "metadata": {},
   "outputs": [
    {
     "data": {
      "image/png": "[encoded data removed]",
      "text/plain": [
       "<Figure size 432x288 with 1 Axes>"
      ]
     },
     "metadata": {
      "needs_background": "light"
     },
     "output_type": "display_data"
    }
   ],
   "source": [
    "import matplotlib.pyplot as plt\n",
    "plt.scatter(y_test, y_pred)\n",
    "plt.xlabel('True Values')\n",
    "plt.ylabel('Predictions')\n",
    "plt.axis('equal')\n",
    "plt.xlim(plt.xlim())\n",
    "plt.ylim(plt.ylim())\n",
    "_ = plt.plot([-100, 100], [-100, 100])\n",
    "plt.show()"
   ]
  },
  {
   "cell_type": "code",
   "execution_count": 33,
   "metadata": {},
   "outputs": [
    {
     "name": "stdout",
     "output_type": "stream",
     "text": [
      "   predicted_values  true_values\n",
      "0           7.92195         7.99\n",
      "1           7.72635         7.55\n",
      "2           7.44375         7.60\n",
      "3           7.04520         7.25\n",
      "4           7.61960         7.78\n"
     ]
    }
   ],
   "source": [
    "# Export data to a dataframe\n",
    "import pandas as pd\n",
    "df = pd.DataFrame({'predicted_values':y_pred, 'true_values':y_test,})\n",
    "print(df.head())"
   ]
  },
  {
   "cell_type": "code",
   "execution_count": 482,
   "metadata": {},
   "outputs": [],
   "source": [
    "# Print data to a csv file\n",
    "df.to_csv('forestplus_ts_1.csv')"
   ]
  },
  {
   "cell_type": "code",
   "execution_count": 483,
   "metadata": {},
   "outputs": [],
   "source": [
    "#Summarize results into one csv file\n",
    "ts1 = pd.read_csv('forestplus_ts_1.csv')\n",
    "ts2 = pd.read_csv('forestplus_ts_2.csv')\n",
    "ts3 = pd.read_csv('forestplus_ts_3.csv')\n",
    "ts4 = pd.read_csv('forestplus_ts_4.csv')\n",
    "ts5 = pd.read_csv('forestplus_ts_5.csv')\n",
    "ts = pd.concat([ts1,ts2,ts3,ts4,ts5], axis=0)\n",
    "\n",
    "tr1 = pd.read_csv('forest_plus_tr_1.csv')\n",
    "tr2 = pd.read_csv('forest_plus_tr_2.csv')\n",
    "tr3 = pd.read_csv('forest_plus_tr_3.csv')\n",
    "tr4 = pd.read_csv('forest_plus_tr_4.csv')\n",
    "tr5 = pd.read_csv('forest_plus_tr_5.csv')\n",
    "tr = pd.concat([tr1,tr2,tr3,tr4,tr5], axis=0)\n",
    "\n",
    "ts.to_csv('forestplus_ts.csv')\n",
    "tr.to_csv('forestplus_tr.csv')"
   ]
  },
  {
   "cell_type": "code",
   "execution_count": null,
   "metadata": {},
   "outputs": [],
   "source": []
  }
 ],
 "metadata": {
  "kernelspec": {
   "display_name": "Python 3",
   "language": "python",
   "name": "python3"
  },
  "language_info": {
   "codemirror_mode": {
    "name": "ipython",
    "version": 3
   },
   "file_extension": ".py",
   "mimetype": "text/x-python",
   "name": "python",
   "nbconvert_exporter": "python",
   "pygments_lexer": "ipython3",
   "version": "3.7.4"
  }
 },
 "nbformat": 4,
 "nbformat_minor": 4
}
