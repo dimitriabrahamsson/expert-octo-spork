{
 "cells": [
  {
   "cell_type": "code",
   "execution_count": 292,
   "metadata": {},
   "outputs": [],
   "source": [
    "import numpy as np\n",
    "import pandas as pd"
   ]
  },
  {
   "cell_type": "code",
   "execution_count": 293,
   "metadata": {},
   "outputs": [
    {
     "name": "stdout",
     "output_type": "stream",
     "text": [
      "1.14.0\n"
     ]
    }
   ],
   "source": [
    "from __future__ import absolute_import, division, print_function\n",
    "\n",
    "import tensorflow as tf\n",
    "from tensorflow import keras\n",
    "\n",
    "import numpy as np\n",
    "\n",
    "print(tf.__version__)"
   ]
  },
  {
   "cell_type": "code",
   "execution_count": 294,
   "metadata": {},
   "outputs": [],
   "source": [
    "dataset = pd.read_csv('ion_.csv')"
   ]
  },
  {
   "cell_type": "code",
   "execution_count": 295,
   "metadata": {},
   "outputs": [
    {
     "data": {
      "text/html": [
       "<div>\n",
       "<style scoped>\n",
       "    .dataframe tbody tr th:only-of-type {\n",
       "        vertical-align: middle;\n",
       "    }\n",
       "\n",
       "    .dataframe tbody tr th {\n",
       "        vertical-align: top;\n",
       "    }\n",
       "\n",
       "    .dataframe thead th {\n",
       "        text-align: right;\n",
       "    }\n",
       "</style>\n",
       "<table border=\"1\" class=\"dataframe\">\n",
       "  <thead>\n",
       "    <tr style=\"text-align: right;\">\n",
       "      <th></th>\n",
       "      <th>E QSPR</th>\n",
       "      <th>S QSPR</th>\n",
       "      <th>A QSPR</th>\n",
       "      <th>B QSPR</th>\n",
       "      <th>V</th>\n",
       "      <th>L QSPR</th>\n",
       "      <th>MW</th>\n",
       "      <th>Ncharges</th>\n",
       "      <th>C</th>\n",
       "      <th>N</th>\n",
       "      <th>...</th>\n",
       "      <th>RCHO</th>\n",
       "      <th>RCOR</th>\n",
       "      <th>RCOOH</th>\n",
       "      <th>RCOOR</th>\n",
       "      <th>ROR</th>\n",
       "      <th>RCCH</th>\n",
       "      <th>RCN</th>\n",
       "      <th>RINGS</th>\n",
       "      <th>AROMATIC</th>\n",
       "      <th>log RRF</th>\n",
       "    </tr>\n",
       "  </thead>\n",
       "  <tbody>\n",
       "    <tr>\n",
       "      <th>0</th>\n",
       "      <td>0.41</td>\n",
       "      <td>1.05</td>\n",
       "      <td>0.74</td>\n",
       "      <td>1.00</td>\n",
       "      <td>0.7055</td>\n",
       "      <td>3.110</td>\n",
       "      <td>82.0376</td>\n",
       "      <td>0</td>\n",
       "      <td>3</td>\n",
       "      <td>1</td>\n",
       "      <td>...</td>\n",
       "      <td>0</td>\n",
       "      <td>0</td>\n",
       "      <td>1</td>\n",
       "      <td>0</td>\n",
       "      <td>0</td>\n",
       "      <td>0</td>\n",
       "      <td>0</td>\n",
       "      <td>0</td>\n",
       "      <td>0</td>\n",
       "      <td>-3.298432</td>\n",
       "    </tr>\n",
       "    <tr>\n",
       "      <th>1</th>\n",
       "      <td>0.35</td>\n",
       "      <td>0.89</td>\n",
       "      <td>0.73</td>\n",
       "      <td>1.00</td>\n",
       "      <td>0.7055</td>\n",
       "      <td>2.966</td>\n",
       "      <td>82.0376</td>\n",
       "      <td>0</td>\n",
       "      <td>3</td>\n",
       "      <td>1</td>\n",
       "      <td>...</td>\n",
       "      <td>0</td>\n",
       "      <td>0</td>\n",
       "      <td>1</td>\n",
       "      <td>0</td>\n",
       "      <td>0</td>\n",
       "      <td>0</td>\n",
       "      <td>0</td>\n",
       "      <td>0</td>\n",
       "      <td>0</td>\n",
       "      <td>-3.225483</td>\n",
       "    </tr>\n",
       "    <tr>\n",
       "      <th>2</th>\n",
       "      <td>0.35</td>\n",
       "      <td>1.05</td>\n",
       "      <td>0.74</td>\n",
       "      <td>1.00</td>\n",
       "      <td>0.8464</td>\n",
       "      <td>3.583</td>\n",
       "      <td>94.0483</td>\n",
       "      <td>0</td>\n",
       "      <td>4</td>\n",
       "      <td>1</td>\n",
       "      <td>...</td>\n",
       "      <td>0</td>\n",
       "      <td>0</td>\n",
       "      <td>1</td>\n",
       "      <td>0</td>\n",
       "      <td>0</td>\n",
       "      <td>0</td>\n",
       "      <td>0</td>\n",
       "      <td>0</td>\n",
       "      <td>0</td>\n",
       "      <td>-3.044312</td>\n",
       "    </tr>\n",
       "    <tr>\n",
       "      <th>3</th>\n",
       "      <td>0.95</td>\n",
       "      <td>1.09</td>\n",
       "      <td>0.63</td>\n",
       "      <td>1.24</td>\n",
       "      <td>0.9179</td>\n",
       "      <td>4.987</td>\n",
       "      <td>102.0736</td>\n",
       "      <td>0</td>\n",
       "      <td>5</td>\n",
       "      <td>3</td>\n",
       "      <td>...</td>\n",
       "      <td>0</td>\n",
       "      <td>0</td>\n",
       "      <td>0</td>\n",
       "      <td>0</td>\n",
       "      <td>0</td>\n",
       "      <td>0</td>\n",
       "      <td>0</td>\n",
       "      <td>1</td>\n",
       "      <td>1</td>\n",
       "      <td>-2.954677</td>\n",
       "    </tr>\n",
       "    <tr>\n",
       "      <th>4</th>\n",
       "      <td>1.78</td>\n",
       "      <td>1.61</td>\n",
       "      <td>1.19</td>\n",
       "      <td>1.32</td>\n",
       "      <td>0.9816</td>\n",
       "      <td>7.180</td>\n",
       "      <td>106.0623</td>\n",
       "      <td>0</td>\n",
       "      <td>4</td>\n",
       "      <td>3</td>\n",
       "      <td>...</td>\n",
       "      <td>0</td>\n",
       "      <td>0</td>\n",
       "      <td>0</td>\n",
       "      <td>0</td>\n",
       "      <td>0</td>\n",
       "      <td>0</td>\n",
       "      <td>0</td>\n",
       "      <td>1</td>\n",
       "      <td>1</td>\n",
       "      <td>-2.950782</td>\n",
       "    </tr>\n",
       "  </tbody>\n",
       "</table>\n",
       "<p>5 rows × 28 columns</p>\n",
       "</div>"
      ],
      "text/plain": [
       "   E QSPR  S QSPR  A QSPR  B QSPR       V  L QSPR        MW  Ncharges  C  N  \\\n",
       "0    0.41    1.05    0.74    1.00  0.7055   3.110   82.0376         0  3  1   \n",
       "1    0.35    0.89    0.73    1.00  0.7055   2.966   82.0376         0  3  1   \n",
       "2    0.35    1.05    0.74    1.00  0.8464   3.583   94.0483         0  4  1   \n",
       "3    0.95    1.09    0.63    1.24  0.9179   4.987  102.0736         0  5  3   \n",
       "4    1.78    1.61    1.19    1.32  0.9816   7.180  106.0623         0  4  3   \n",
       "\n",
       "   ...  RCHO  RCOR  RCOOH  RCOOR  ROR  RCCH  RCN  RINGS  AROMATIC   log RRF  \n",
       "0  ...     0     0      1      0    0     0    0      0         0 -3.298432  \n",
       "1  ...     0     0      1      0    0     0    0      0         0 -3.225483  \n",
       "2  ...     0     0      1      0    0     0    0      0         0 -3.044312  \n",
       "3  ...     0     0      0      0    0     0    0      1         1 -2.954677  \n",
       "4  ...     0     0      0      0    0     0    0      1         1 -2.950782  \n",
       "\n",
       "[5 rows x 28 columns]"
      ]
     },
     "execution_count": 295,
     "metadata": {},
     "output_type": "execute_result"
    }
   ],
   "source": [
    "dataset.head()"
   ]
  },
  {
   "cell_type": "code",
   "execution_count": 296,
   "metadata": {},
   "outputs": [],
   "source": [
    "X = dataset.iloc[:, 0:27].values\n",
    "y = dataset.iloc[:, 27].values"
   ]
  },
  {
   "cell_type": "code",
   "execution_count": 297,
   "metadata": {},
   "outputs": [],
   "source": [
    "from sklearn.model_selection import train_test_split\n",
    "\n",
    "X_train, X_test, y_train, y_test = train_test_split(X, y, test_size=0.2, random_state=None)"
   ]
  },
  {
   "cell_type": "code",
   "execution_count": 298,
   "metadata": {},
   "outputs": [],
   "source": [
    "from sklearn.preprocessing import StandardScaler\n",
    "\n",
    "sc = StandardScaler()\n",
    "X_train = sc.fit_transform(X_train)\n",
    "X_test = sc.transform(X_test)"
   ]
  },
  {
   "cell_type": "code",
   "execution_count": 299,
   "metadata": {},
   "outputs": [
    {
     "name": "stdout",
     "output_type": "stream",
     "text": [
      "Model: \"sequential_27\"\n",
      "_________________________________________________________________\n",
      "Layer (type)                 Output Shape              Param #   \n",
      "=================================================================\n",
      "flatten_27 (Flatten)         (None, 27)                0         \n",
      "_________________________________________________________________\n",
      "dense_324 (Dense)            (None, 100)               2800      \n",
      "_________________________________________________________________\n",
      "dense_325 (Dense)            (None, 100)               10100     \n",
      "_________________________________________________________________\n",
      "dense_326 (Dense)            (None, 100)               10100     \n",
      "_________________________________________________________________\n",
      "dense_327 (Dense)            (None, 100)               10100     \n",
      "_________________________________________________________________\n",
      "dense_328 (Dense)            (None, 100)               10100     \n",
      "_________________________________________________________________\n",
      "dense_329 (Dense)            (None, 100)               10100     \n",
      "_________________________________________________________________\n",
      "dense_330 (Dense)            (None, 100)               10100     \n",
      "_________________________________________________________________\n",
      "dense_331 (Dense)            (None, 100)               10100     \n",
      "_________________________________________________________________\n",
      "dense_332 (Dense)            (None, 100)               10100     \n",
      "_________________________________________________________________\n",
      "dense_333 (Dense)            (None, 100)               10100     \n",
      "_________________________________________________________________\n",
      "dropout_27 (Dropout)         (None, 100)               0         \n",
      "_________________________________________________________________\n",
      "dense_334 (Dense)            (None, 100)               10100     \n",
      "_________________________________________________________________\n",
      "dense_335 (Dense)            (None, 1)                 101       \n",
      "=================================================================\n",
      "Total params: 103,901\n",
      "Trainable params: 103,901\n",
      "Non-trainable params: 0\n",
      "_________________________________________________________________\n"
     ]
    }
   ],
   "source": [
    "def build_model():\n",
    "  model = keras.Sequential([\n",
    "    keras.layers.Flatten(input_shape=(X_train.shape[1],)),\n",
    "    keras.layers.Dense(100, activation='relu'),\n",
    "    keras.layers.Dense(100, activation='relu'),\n",
    "    keras.layers.Dense(100, activation='relu'),\n",
    "    keras.layers.Dense(100, activation='relu'),\n",
    "    keras.layers.Dense(100, activation='relu'),\n",
    "    keras.layers.Dense(100, activation='relu'),\n",
    "    keras.layers.Dense(100, activation='relu'),\n",
    "    keras.layers.Dense(100, activation='relu'),\n",
    "    keras.layers.Dense(100, activation='relu'),\n",
    "    keras.layers.Dense(100, activation='relu'),\n",
    "    keras.layers.Dropout(0.2),\n",
    "    keras.layers.Dense(100, activation='sigmoid'),\n",
    "    keras.layers.Dense(1)\n",
    "  ])\n",
    "\n",
    "  optimizer = tf.train.AdamOptimizer(0.001)\n",
    "\n",
    "  model.compile(loss='mse',\n",
    "                optimizer=optimizer,\n",
    "                metrics=['mae'])\n",
    "  return model\n",
    "\n",
    "model = build_model()\n",
    "model.summary()"
   ]
  },
  {
   "cell_type": "code",
   "execution_count": 300,
   "metadata": {},
   "outputs": [
    {
     "name": "stdout",
     "output_type": "stream",
     "text": [
      "\n",
      "....................................................................................................\n",
      "....................................................................................................\n",
      "....................................................................................................\n",
      "....................................................................................................\n",
      "...................................................................................................."
     ]
    }
   ],
   "source": [
    "# Display training progress by printing a single dot for each completed epoch\n",
    "class PrintDot(keras.callbacks.Callback):\n",
    "  def on_epoch_end(self, epoch, logs):\n",
    "    if epoch % 100 == 0: print('')\n",
    "    print('.', end='')\n",
    "\n",
    "EPOCHS = 500\n",
    "\n",
    "# Store training stats\n",
    "history = model.fit(X_train, y_train, epochs=EPOCHS,\n",
    "                    validation_split=0.2, verbose=0,\n",
    "                    callbacks=[PrintDot()])"
   ]
  },
  {
   "cell_type": "code",
   "execution_count": 301,
   "metadata": {},
   "outputs": [
    {
     "data": {
      "image/png": "[encoded data removed]",
      "text/plain": [
       "<Figure size 432x288 with 1 Axes>"
      ]
     },
     "metadata": {
      "needs_background": "light"
     },
     "output_type": "display_data"
    }
   ],
   "source": [
    "import matplotlib.pyplot as plt\n",
    "\n",
    "\n",
    "def plot_history(history):\n",
    "  plt.figure()\n",
    "  plt.xlabel('Epoch')\n",
    "  plt.ylabel('Mean Abs Error')\n",
    "  plt.plot(history.epoch, np.array(history.history['mean_absolute_error']),\n",
    "           label='Train Loss')\n",
    "  plt.plot(history.epoch, np.array(history.history['val_mean_absolute_error']),\n",
    "           label = 'Val Loss')\n",
    "  plt.legend()\n",
    "  plt.ylim([0, 2.5])\n",
    "\n",
    "plot_history(history)\n",
    "plt.show()"
   ]
  },
  {
   "cell_type": "code",
   "execution_count": 302,
   "metadata": {},
   "outputs": [
    {
     "data": {
      "image/png": "[encoded data removed]",
      "text/plain": [
       "<Figure size 432x288 with 1 Axes>"
      ]
     },
     "metadata": {
      "needs_background": "light"
     },
     "output_type": "display_data"
    }
   ],
   "source": [
    "import matplotlib.pyplot as plt\n",
    "\n",
    "fig = plt.figure()\n",
    "ax = plt.subplot()\n",
    "ax.plot(history.epoch, np.array(history.history['mean_absolute_error']),\n",
    "           label='Train Loss')\n",
    "ax.plot(history.epoch, np.array(history.history['val_mean_absolute_error']),\n",
    "           label = 'Val Loss')\n",
    "plt.xlabel('Epoch')\n",
    "plt.ylabel('Mean Abs Error')\n",
    "plt.legend()\n",
    "plt.ylim([0, 2.5])\n",
    "plt.show()\n",
    "fig.savefig('train_val_500.png', dpi=400)"
   ]
  },
  {
   "cell_type": "code",
   "execution_count": 303,
   "metadata": {},
   "outputs": [
    {
     "name": "stdout",
     "output_type": "stream",
     "text": [
      "\n",
      "....................................................................................................\n",
      "....................................................................................................\n",
      "....................................................................................................\n",
      "....................................................................................................\n",
      "...................................................."
     ]
    },
    {
     "data": {
      "image/png": "[encoded data removed]",
      "text/plain": [
       "<Figure size 432x288 with 1 Axes>"
      ]
     },
     "metadata": {
      "needs_background": "light"
     },
     "output_type": "display_data"
    }
   ],
   "source": [
    "model = build_model()\n",
    "\n",
    "# The patience parameter is the amount of epochs to check for improvement\n",
    "early_stop = keras.callbacks.EarlyStopping(monitor='val_loss', patience=100)\n",
    "\n",
    "history = model.fit(X_train, y_train, epochs=EPOCHS,\n",
    "                    validation_split=0.2, verbose=0,\n",
    "                    callbacks=[early_stop, PrintDot()])\n",
    "\n",
    "#plot_history(history)\n",
    "#plt.show()\n",
    "\n",
    "fig = plt.figure()\n",
    "ax = plt.subplot()\n",
    "ax.plot(history.epoch, np.array(history.history['mean_absolute_error']),\n",
    "           label='Train Loss')\n",
    "ax.plot(history.epoch, np.array(history.history['val_mean_absolute_error']),\n",
    "           label = 'Val Loss')\n",
    "plt.xlabel('Epoch')\n",
    "plt.ylabel('Mean Abs Error')\n",
    "plt.legend()\n",
    "plt.ylim([0, 2.5])\n",
    "plt.show()\n",
    "fig.savefig('train_val_100.png', dpi=400)"
   ]
  },
  {
   "cell_type": "code",
   "execution_count": 304,
   "metadata": {},
   "outputs": [
    {
     "name": "stdout",
     "output_type": "stream",
     "text": [
      "Testing set Mean Abs Error:    0.20\n"
     ]
    }
   ],
   "source": [
    "[loss, mae] = model.evaluate(X_test, y_test, verbose=0)\n",
    "\n",
    "print(\"Testing set Mean Abs Error: {:7.2f}\".format(mae * 1))"
   ]
  },
  {
   "cell_type": "code",
   "execution_count": 305,
   "metadata": {},
   "outputs": [
    {
     "name": "stdout",
     "output_type": "stream",
     "text": [
      "Training set Mean Abs Error:    0.07\n"
     ]
    }
   ],
   "source": [
    "[loss, mae] = model.evaluate(X_train, y_train, verbose=0)\n",
    "\n",
    "print(\"Training set Mean Abs Error: {:7.2f}\".format(mae * 1))"
   ]
  },
  {
   "cell_type": "code",
   "execution_count": 306,
   "metadata": {},
   "outputs": [],
   "source": [
    "from sklearn import metrics\n",
    "\n",
    "y_pred = model.predict(X_train).flatten()"
   ]
  },
  {
   "cell_type": "code",
   "execution_count": 307,
   "metadata": {
    "scrolled": true
   },
   "outputs": [
    {
     "data": {
      "image/png": "[encoded data removed]",
      "text/plain": [
       "<Figure size 432x288 with 1 Axes>"
      ]
     },
     "metadata": {
      "needs_background": "light"
     },
     "output_type": "display_data"
    }
   ],
   "source": [
    "plt.scatter(y_train, y_pred)\n",
    "plt.xlabel('True Values')\n",
    "plt.ylabel('Predictions')\n",
    "plt.axis('equal')\n",
    "plt.xlim(plt.xlim())\n",
    "plt.ylim(plt.ylim())\n",
    "_ = plt.plot([-100, 100], [-100, 100])"
   ]
  },
  {
   "cell_type": "code",
   "execution_count": 308,
   "metadata": {},
   "outputs": [
    {
     "data": {
      "image/png": "[encoded data removed]",
      "text/plain": [
       "<Figure size 432x288 with 1 Axes>"
      ]
     },
     "metadata": {
      "needs_background": "light"
     },
     "output_type": "display_data"
    }
   ],
   "source": [
    "error = y_pred - y_train\n",
    "plt.hist(error, bins = 10)\n",
    "plt.xlabel(\"Prediction Error\")\n",
    "_ = plt.ylabel(\"Count\")"
   ]
  },
  {
   "cell_type": "code",
   "execution_count": 309,
   "metadata": {},
   "outputs": [
    {
     "name": "stdout",
     "output_type": "stream",
     "text": [
      "    predicted_values  true_values\n",
      "0          -1.540046    -1.525784\n",
      "1          -1.922986    -1.935542\n",
      "2          -2.563904    -2.542118\n",
      "3          -1.557421    -1.533132\n",
      "4          -1.652415    -1.645892\n",
      "5          -1.929541    -1.924453\n",
      "6          -2.782026    -2.774691\n",
      "7          -1.504552    -1.531653\n",
      "8          -2.054909    -2.107349\n",
      "9          -1.510887    -1.497573\n",
      "10         -1.722181    -1.747147\n",
      "11         -2.135643    -2.143876\n",
      "12         -1.615358    -1.525784\n",
      "13         -1.774385    -1.774691\n",
      "14         -1.713213    -1.703335\n",
      "15         -2.379157    -2.391474\n",
      "16         -1.799204    -1.806875\n",
      "17         -1.414613    -1.449772\n",
      "18         -2.614720    -2.602060\n",
      "19         -1.270776    -1.253366\n",
      "20         -2.520853    -2.527244\n",
      "21         -1.779303    -1.804100\n",
      "22         -1.748263    -1.772113\n",
      "23         -2.099775    -2.079877\n",
      "24         -1.656216    -1.647817\n",
      "25         -2.135764    -2.115771\n",
      "26         -2.609940    -2.640165\n",
      "27         -2.883496    -2.950782\n",
      "28         -1.566707    -1.549751\n",
      "29         -2.644618    -2.578396\n",
      "30         -1.300757    -1.281498\n",
      "31         -1.882318    -1.896196\n",
      "32         -3.194016    -3.298432\n",
      "33         -2.174553    -2.125518\n",
      "34         -1.553228    -1.549751\n",
      "35         -1.240463    -1.176526\n",
      "36         -1.320424    -0.440093\n",
      "37         -3.072520    -3.044312\n",
      "38         -1.517503    -1.623423\n",
      "39         -1.513989    -1.634512\n",
      "40         -2.450144    -2.551294\n",
      "41         -1.540375    -1.051587\n",
      "42         -1.952951    -1.853872\n",
      "43         -2.269197    -2.153045\n",
      "44         -1.631487    -1.280669\n"
     ]
    }
   ],
   "source": [
    "import pandas as pd\n",
    "df = pd.DataFrame({'predicted_values':y_pred, 'true_values':y_train,})\n",
    "print(df)"
   ]
  },
  {
   "cell_type": "code",
   "execution_count": 310,
   "metadata": {},
   "outputs": [],
   "source": [
    "df.to_csv('ANN_plus_tr_5.csv')"
   ]
  },
  {
   "cell_type": "code",
   "execution_count": 69,
   "metadata": {},
   "outputs": [],
   "source": [
    "y_pred = model.predict(X_test).flatten()"
   ]
  },
  {
   "cell_type": "code",
   "execution_count": 70,
   "metadata": {},
   "outputs": [
    {
     "data": {
      "image/png": "[encoded data removed]",
      "text/plain": [
       "<Figure size 432x288 with 1 Axes>"
      ]
     },
     "metadata": {
      "needs_background": "light"
     },
     "output_type": "display_data"
    }
   ],
   "source": [
    "plt.scatter(y_test, y_pred)\n",
    "plt.xlabel('True Values')\n",
    "plt.ylabel('Predictions')\n",
    "plt.axis('equal')\n",
    "plt.xlim(plt.xlim())\n",
    "plt.ylim(plt.ylim())\n",
    "_ = plt.plot([-100, 100], [-100, 100])"
   ]
  },
  {
   "cell_type": "code",
   "execution_count": 71,
   "metadata": {},
   "outputs": [
    {
     "data": {
      "image/png": "[encoded data removed]",
      "text/plain": [
       "<Figure size 432x288 with 1 Axes>"
      ]
     },
     "metadata": {
      "needs_background": "light"
     },
     "output_type": "display_data"
    }
   ],
   "source": [
    "error = y_pred - y_test\n",
    "plt.hist(error, bins = 10)\n",
    "plt.xlabel(\"Prediction Error\")\n",
    "_ = plt.ylabel(\"Count\")"
   ]
  },
  {
   "cell_type": "code",
   "execution_count": 72,
   "metadata": {},
   "outputs": [
    {
     "name": "stdout",
     "output_type": "stream",
     "text": [
      "    predicted_values  true_values\n",
      "0          -1.277854    -1.176526\n",
      "1          -2.701715    -2.774691\n",
      "2          -2.405984    -2.542118\n",
      "3          -1.353635    -1.531653\n",
      "4          -1.313703    -1.109020\n",
      "5          -1.745172    -1.718967\n",
      "6          -2.093722    -2.153045\n",
      "7          -1.313597    -0.440093\n",
      "8          -1.484383    -1.497573\n",
      "9          -1.655076    -2.527244\n",
      "10         -1.573808    -1.634512\n",
      "11         -1.872409    -1.793174\n"
     ]
    }
   ],
   "source": [
    "df = pd.DataFrame({'predicted_values':y_pred, 'true_values':y_test,})\n",
    "print(df)"
   ]
  },
  {
   "cell_type": "code",
   "execution_count": 73,
   "metadata": {},
   "outputs": [],
   "source": [
    "df.to_csv('ANN_ts_1.csv')"
   ]
  },
  {
   "cell_type": "code",
   "execution_count": null,
   "metadata": {},
   "outputs": [],
   "source": []
  }
 ],
 "metadata": {
  "kernelspec": {
   "display_name": "Python 3",
   "language": "python",
   "name": "python3"
  },
  "language_info": {
   "codemirror_mode": {
    "name": "ipython",
    "version": 3
   },
   "file_extension": ".py",
   "mimetype": "text/x-python",
   "name": "python",
   "nbconvert_exporter": "python",
   "pygments_lexer": "ipython3",
   "version": "3.7.3"
  }
 },
 "nbformat": 4,
 "nbformat_minor": 2
}
