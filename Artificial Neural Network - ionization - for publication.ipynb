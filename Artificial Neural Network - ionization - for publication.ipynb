{
 "cells": [
  {
   "cell_type": "code",
   "execution_count": 34,
   "metadata": {},
   "outputs": [],
   "source": [
    "# Import libraries\n",
    "import numpy as np\n",
    "import pandas as pd"
   ]
  },
  {
   "cell_type": "code",
   "execution_count": 35,
   "metadata": {},
   "outputs": [
    {
     "name": "stdout",
     "output_type": "stream",
     "text": [
      "2.0.0\n"
     ]
    }
   ],
   "source": [
    "from __future__ import absolute_import, division, print_function\n",
    "\n",
    "import tensorflow as tf\n",
    "from tensorflow import keras\n",
    "\n",
    "import numpy as np\n",
    "from sklearn.metrics import mean_absolute_error\n",
    "print(tf.__version__)"
   ]
  },
  {
   "cell_type": "code",
   "execution_count": 36,
   "metadata": {},
   "outputs": [],
   "source": [
    "# Read datasets\n",
    "dataset = pd.read_csv('ion_entact_pos.csv')\n",
    "dataset = dataset.select_dtypes([np.number])"
   ]
  },
  {
   "cell_type": "code",
   "execution_count": 37,
   "metadata": {},
   "outputs": [
    {
     "data": {
      "text/plain": [
       "array(['mean_RT', 'n_Repeated_Hits', 'DTXSID_Isomer', 'Observed_Isomer',\n",
       "       'Isomer_Number', 'Isomer_Order', 'Questionable_Hit',\n",
       "       'Corrected_HighConc', 'Corrected_MidConc', 'Corrected_LowConc',\n",
       "       'mean_High_Intensity', 'mean_Mid_Intensity', 'mean_Low_Intensity',\n",
       "       'std_High_Intensity', 'std_Mid_Intensity', 'std_Low_Intensity',\n",
       "       'RF_HighConc', 'RF_MedConc', 'RF_LowConc', 'RF_Average', 'E QSPR',\n",
       "       'S QSPR', 'A QSPR', 'B QSPR', 'V', 'L QSPR', 'MW', 'Ncharges', 'C',\n",
       "       'Cl', 'N', 'O', 'S', 'F', 'P', 'H', 'Br', 'Si', 'I', 'RNH2',\n",
       "       'R2NH', 'R3N', 'ROPO3', 'ROH', 'RCHO', 'RCOR', 'RCOOH', 'RCOOR',\n",
       "       'ROR', 'RCCH', 'RCN', 'RINGS', 'AROMATIC', 'log_RF_Average'],\n",
       "      dtype=object)"
      ]
     },
     "execution_count": 37,
     "metadata": {},
     "output_type": "execute_result"
    }
   ],
   "source": [
    "# Rhow dataframe column names\n",
    "dataset.columns.values"
   ]
  },
  {
   "cell_type": "code",
   "execution_count": 38,
   "metadata": {},
   "outputs": [],
   "source": [
    "# Assign X and y variables\n",
    "X = dataset.loc[:, 'E QSPR':'AROMATIC'].values\n",
    "y = dataset.loc[:, 'log_RF_Average'].values"
   ]
  },
  {
   "cell_type": "code",
   "execution_count": 39,
   "metadata": {},
   "outputs": [],
   "source": [
    "# y-randomization step -  use only for y-randomization analyis (to use remove '#')\n",
    "#from sklearn.utils import shuffle\n",
    "#y = shuffle(y, random_state=1)"
   ]
  },
  {
   "cell_type": "code",
   "execution_count": 40,
   "metadata": {},
   "outputs": [],
   "source": [
    "# Split dataframe into training and testing set\n",
    "from sklearn.model_selection import train_test_split\n",
    "\n",
    "X_train, X_test, y_train, y_test = train_test_split(X, y, test_size=0.2, random_state=None)"
   ]
  },
  {
   "cell_type": "code",
   "execution_count": 41,
   "metadata": {},
   "outputs": [],
   "source": [
    "# Normalize data\n",
    "from sklearn.preprocessing import StandardScaler\n",
    "\n",
    "sc = StandardScaler()\n",
    "X_train = sc.fit_transform(X_train)\n",
    "X_test = sc.transform(X_test)"
   ]
  },
  {
   "cell_type": "code",
   "execution_count": 42,
   "metadata": {},
   "outputs": [
    {
     "name": "stdout",
     "output_type": "stream",
     "text": [
      "Model: \"sequential_1\"\n",
      "_________________________________________________________________\n",
      "Layer (type)                 Output Shape              Param #   \n",
      "=================================================================\n",
      "flatten_1 (Flatten)          (None, 33)                0         \n",
      "_________________________________________________________________\n",
      "dense_11 (Dense)             (None, 100)               3400      \n",
      "_________________________________________________________________\n",
      "dense_12 (Dense)             (None, 100)               10100     \n",
      "_________________________________________________________________\n",
      "dense_13 (Dense)             (None, 100)               10100     \n",
      "_________________________________________________________________\n",
      "dense_14 (Dense)             (None, 100)               10100     \n",
      "_________________________________________________________________\n",
      "dense_15 (Dense)             (None, 100)               10100     \n",
      "_________________________________________________________________\n",
      "dense_16 (Dense)             (None, 100)               10100     \n",
      "_________________________________________________________________\n",
      "dense_17 (Dense)             (None, 100)               10100     \n",
      "_________________________________________________________________\n",
      "dense_18 (Dense)             (None, 100)               10100     \n",
      "_________________________________________________________________\n",
      "dense_19 (Dense)             (None, 100)               10100     \n",
      "_________________________________________________________________\n",
      "dropout_1 (Dropout)          (None, 100)               0         \n",
      "_________________________________________________________________\n",
      "dense_20 (Dense)             (None, 100)               10100     \n",
      "_________________________________________________________________\n",
      "dense_21 (Dense)             (None, 1)                 101       \n",
      "=================================================================\n",
      "Total params: 94,401\n",
      "Trainable params: 94,401\n",
      "Non-trainable params: 0\n",
      "_________________________________________________________________\n"
     ]
    }
   ],
   "source": [
    "# Compile the ANN model\n",
    "def build_model():\n",
    "  model = keras.Sequential([\n",
    "    keras.layers.Flatten(input_shape=(X_train.shape[1],)),\n",
    "    keras.layers.Dense(100, activation='relu'),\n",
    "    keras.layers.Dense(100, activation='relu'),\n",
    "    keras.layers.Dense(100, activation='relu'),\n",
    "    keras.layers.Dense(100, activation='relu'),\n",
    "    keras.layers.Dense(100, activation='relu'),\n",
    "    keras.layers.Dense(100, activation='relu'),\n",
    "    keras.layers.Dense(100, activation='relu'),\n",
    "    keras.layers.Dense(100, activation='relu'),\n",
    "    keras.layers.Dense(100, activation='relu'),\n",
    "    keras.layers.Dropout(0.2),\n",
    "    keras.layers.Dense(100, activation='exponential'),\n",
    "    keras.layers.Dense(1)\n",
    "  ])\n",
    "\n",
    "  optimizer = tf.optimizers.Adamax(0.001)\n",
    "\n",
    "  model.compile(loss='mae',\n",
    "                optimizer=optimizer,\n",
    "                metrics=['mae'])\n",
    "  return model\n",
    "\n",
    "model = build_model()\n",
    "model.summary()"
   ]
  },
  {
   "cell_type": "code",
   "execution_count": 43,
   "metadata": {},
   "outputs": [
    {
     "name": "stdout",
     "output_type": "stream",
     "text": [
      "\n",
      "....................................................................................................\n",
      "....................................................................................................\n",
      "....................................................................................................\n",
      "....................................................................................................\n",
      "...................................................................................................."
     ]
    }
   ],
   "source": [
    "# Display training progress by printing a single dot for each completed epoch\n",
    "class PrintDot(keras.callbacks.Callback):\n",
    "  def on_epoch_end(self, epoch, logs):\n",
    "    if epoch % 100 == 0: print('')\n",
    "    print('.', end='')\n",
    "\n",
    "EPOCHS = 500\n",
    "\n",
    "# Store training stats\n",
    "history = model.fit(X_train, y_train, epochs=EPOCHS,\n",
    "                    validation_split=0.2, verbose=0,\n",
    "                    callbacks=[PrintDot()])"
   ]
  },
  {
   "cell_type": "code",
   "execution_count": 44,
   "metadata": {},
   "outputs": [
    {
     "data": {
      "image/png": "[encoded data removed]",
      "text/plain": [
       "<Figure size 432x288 with 1 Axes>"
      ]
     },
     "metadata": {
      "needs_background": "light"
     },
     "output_type": "display_data"
    }
   ],
   "source": [
    "import matplotlib.pyplot as plt\n",
    "\n",
    "fig = plt.figure()\n",
    "ax = plt.subplot()\n",
    "ax.plot(history.epoch, np.array(history.history['mae']),\n",
    "           label='Train Loss')\n",
    "ax.plot(history.epoch, np.array(history.history['val_mae']),\n",
    "           label = 'Val Loss')\n",
    "plt.xlabel('Epoch')\n",
    "plt.ylabel('Mean Abs Error')\n",
    "plt.legend()\n",
    "plt.ylim([0, 2.5])\n",
    "plt.xlim([0, 500])\n",
    "plt.show()\n",
    "#fig.savefig('train_val_entact_500_20.png', dpi=400)"
   ]
  },
  {
   "cell_type": "code",
   "execution_count": 46,
   "metadata": {},
   "outputs": [
    {
     "name": "stdout",
     "output_type": "stream",
     "text": [
      "\n",
      "....................................................................................................\n",
      "....................................................................................................\n",
      "....................................................................................................\n",
      "....................................................."
     ]
    },
    {
     "data": {
      "image/png": "[encoded data removed]",
      "text/plain": [
       "<Figure size 432x288 with 1 Axes>"
      ]
     },
     "metadata": {
      "needs_background": "light"
     },
     "output_type": "display_data"
    }
   ],
   "source": [
    "# The patience parameter is the amount of epochs to check for improvement\n",
    "early_stop = keras.callbacks.EarlyStopping(monitor='val_loss', patience=200)\n",
    "\n",
    "history = model.fit(X_train, y_train, epochs=EPOCHS,\n",
    "                    validation_split=0.2, verbose=0,\n",
    "                    callbacks=[early_stop, PrintDot()])\n",
    "\n",
    "fig = plt.figure()\n",
    "ax = plt.subplot()\n",
    "ax.plot(history.epoch, np.array(history.history['mae']),\n",
    "           label='Train Loss')\n",
    "ax.plot(history.epoch, np.array(history.history['val_mae']),\n",
    "           label = 'Val Loss')\n",
    "plt.xlabel('Epoch')\n",
    "plt.ylabel('Mean Abs Error')\n",
    "plt.legend()\n",
    "plt.ylim([0, 2.5])\n",
    "plt.show()\n",
    "#fig.savefig('train_val_entact_20.png', dpi=400)"
   ]
  },
  {
   "cell_type": "code",
   "execution_count": 47,
   "metadata": {},
   "outputs": [
    {
     "name": "stdout",
     "output_type": "stream",
     "text": [
      "Testing set Mean Abs Error:    0.34\n"
     ]
    }
   ],
   "source": [
    "[loss, mae] = model.evaluate(X_test, y_test, verbose=0)\n",
    "\n",
    "print(\"Testing set Mean Abs Error: {:7.2f}\".format(mae * 1))"
   ]
  },
  {
   "cell_type": "code",
   "execution_count": 48,
   "metadata": {},
   "outputs": [
    {
     "name": "stdout",
     "output_type": "stream",
     "text": [
      "Training set Mean Abs Error:    0.09\n"
     ]
    }
   ],
   "source": [
    "[loss, mae] = model.evaluate(X_train, y_train, verbose=0)\n",
    "\n",
    "print(\"Training set Mean Abs Error: {:7.2f}\".format(mae * 1))"
   ]
  },
  {
   "cell_type": "code",
   "execution_count": 49,
   "metadata": {},
   "outputs": [],
   "source": [
    "# Use model to predict data for training set\n",
    "from sklearn import metrics\n",
    "\n",
    "y_pred = model.predict(X_train).flatten()"
   ]
  },
  {
   "cell_type": "code",
   "execution_count": 50,
   "metadata": {
    "scrolled": true
   },
   "outputs": [
    {
     "data": {
      "image/png": "[encoded data removed]",
      "text/plain": [
       "<Figure size 432x288 with 1 Axes>"
      ]
     },
     "metadata": {
      "needs_background": "light"
     },
     "output_type": "display_data"
    }
   ],
   "source": [
    "plt.scatter(y_train, y_pred)\n",
    "plt.xlabel('True Values')\n",
    "plt.ylabel('Predictions')\n",
    "plt.axis('equal')\n",
    "plt.xlim(plt.xlim())\n",
    "plt.ylim(plt.ylim())\n",
    "_ = plt.plot([-100, 100], [-100, 100])"
   ]
  },
  {
   "cell_type": "code",
   "execution_count": 51,
   "metadata": {},
   "outputs": [
    {
     "data": {
      "image/png": "[encoded data removed]",
      "text/plain": [
       "<Figure size 432x288 with 1 Axes>"
      ]
     },
     "metadata": {
      "needs_background": "light"
     },
     "output_type": "display_data"
    }
   ],
   "source": [
    "error = y_pred - y_train\n",
    "plt.hist(error, bins = 10)\n",
    "plt.xlabel(\"Prediction Error\")\n",
    "_ = plt.ylabel(\"Count\")"
   ]
  },
  {
   "cell_type": "code",
   "execution_count": 52,
   "metadata": {},
   "outputs": [
    {
     "name": "stdout",
     "output_type": "stream",
     "text": [
      "   true_values  predicted_values\n",
      "0         7.60          7.589157\n",
      "1         6.82          6.836970\n",
      "2         7.70          7.703543\n",
      "3         5.86          5.901812\n",
      "4         6.02          6.095643\n"
     ]
    }
   ],
   "source": [
    "# Export data into a dataframe\n",
    "import pandas as pd\n",
    "df = pd.DataFrame({'true_values':y_train,'predicted_values':y_pred})\n",
    "print(df.head())"
   ]
  },
  {
   "cell_type": "code",
   "execution_count": 548,
   "metadata": {},
   "outputs": [],
   "source": [
    "# Print data to a csv file\n",
    "df.to_csv('ANN_plus_tr_1.csv')"
   ]
  },
  {
   "cell_type": "code",
   "execution_count": 53,
   "metadata": {},
   "outputs": [
    {
     "data": {
      "text/plain": [
       "0.8638148069527253"
      ]
     },
     "execution_count": 53,
     "metadata": {},
     "output_type": "execute_result"
    }
   ],
   "source": [
    "from sklearn.metrics import r2_score\n",
    "r2_score(y_train, y_pred)"
   ]
  },
  {
   "cell_type": "code",
   "execution_count": 55,
   "metadata": {},
   "outputs": [],
   "source": [
    "# Use model to make predictions for the testing set\n",
    "y_pred = model.predict(X_test).flatten()"
   ]
  },
  {
   "cell_type": "code",
   "execution_count": 56,
   "metadata": {},
   "outputs": [
    {
     "data": {
      "image/png": "[encoded data removed]",
      "text/plain": [
       "<Figure size 432x288 with 1 Axes>"
      ]
     },
     "metadata": {
      "needs_background": "light"
     },
     "output_type": "display_data"
    }
   ],
   "source": [
    "plt.scatter(y_test, y_pred)\n",
    "plt.xlabel('True Values')\n",
    "plt.ylabel('Predictions')\n",
    "plt.axis('equal')\n",
    "plt.xlim(plt.xlim())\n",
    "plt.ylim(plt.ylim())\n",
    "_ = plt.plot([-100, 100], [-100, 100])"
   ]
  },
  {
   "cell_type": "code",
   "execution_count": 57,
   "metadata": {},
   "outputs": [
    {
     "data": {
      "image/png": "[encoded data removed]",
      "text/plain": [
       "<Figure size 432x288 with 1 Axes>"
      ]
     },
     "metadata": {
      "needs_background": "light"
     },
     "output_type": "display_data"
    }
   ],
   "source": [
    "error = y_pred - y_test\n",
    "plt.hist(error, bins = 10)\n",
    "plt.xlabel(\"Prediction Error\")\n",
    "_ = plt.ylabel(\"Count\")"
   ]
  },
  {
   "cell_type": "code",
   "execution_count": 58,
   "metadata": {},
   "outputs": [
    {
     "name": "stdout",
     "output_type": "stream",
     "text": [
      "   true_values  predicted_values\n",
      "0         8.01          8.080698\n",
      "1         7.95          7.692387\n",
      "2         7.96          8.044372\n",
      "3         8.13          8.163337\n",
      "4         7.62          7.647668\n"
     ]
    }
   ],
   "source": [
    "# Export data into a dataframe\n",
    "df = pd.DataFrame({'true_values':y_test,'predicted_values':y_pred})\n",
    "print(df.head())"
   ]
  },
  {
   "cell_type": "code",
   "execution_count": 554,
   "metadata": {},
   "outputs": [],
   "source": [
    "# Print dataframe\n",
    "df.to_csv('ANN_plus_ts_1.csv')"
   ]
  },
  {
   "cell_type": "code",
   "execution_count": 59,
   "metadata": {},
   "outputs": [
    {
     "data": {
      "text/plain": [
       "0.28982235141951496"
      ]
     },
     "execution_count": 59,
     "metadata": {},
     "output_type": "execute_result"
    }
   ],
   "source": [
    "r2_score(y_test, y_pred)"
   ]
  },
  {
   "cell_type": "code",
   "execution_count": 60,
   "metadata": {},
   "outputs": [
    {
     "data": {
      "text/plain": [
       "\"\\nts1 = pd.read_csv('ANN_plus_ts_1.csv')\\nts2 = pd.read_csv('ANN_plus_ts_2.csv')\\nts3 = pd.read_csv('ANN_plus_ts_3.csv')\\nts4 = pd.read_csv('ANN_plus_ts_4.csv')\\nts5 = pd.read_csv('ANN_plus_ts_5.csv')\\nts = pd.concat([ts1,ts2,ts3,ts4,ts5], axis=0)\\n\\ntr1 = pd.read_csv('ANN_plus_tr_1.csv')\\ntr2 = pd.read_csv('ANN_plus_tr_2.csv')\\ntr3 = pd.read_csv('ANN_plus_tr_3.csv')\\ntr4 = pd.read_csv('ANN_plus_tr_4.csv')\\ntr5 = pd.read_csv('ANN_plus_tr_5.csv')\\ntr = pd.concat([tr1,tr2,tr3,tr4,tr5], axis=0)\\n\\nts.to_csv('ANN_plus_ts.csv')\\ntr.to_csv('ANN_plus_tr.csv')\""
      ]
     },
     "execution_count": 60,
     "metadata": {},
     "output_type": "execute_result"
    }
   ],
   "source": [
    "#Summarize results into one csv file\n",
    "ts1 = pd.read_csv('ANN_plus_ts_1.csv')\n",
    "ts2 = pd.read_csv('ANN_plus_ts_2.csv')\n",
    "ts3 = pd.read_csv('ANN_plus_ts_3.csv')\n",
    "ts4 = pd.read_csv('ANN_plus_ts_4.csv')\n",
    "ts5 = pd.read_csv('ANN_plus_ts_5.csv')\n",
    "ts = pd.concat([ts1,ts2,ts3,ts4,ts5], axis=0)\n",
    "\n",
    "tr1 = pd.read_csv('ANN_plus_tr_1.csv')\n",
    "tr2 = pd.read_csv('ANN_plus_tr_2.csv')\n",
    "tr3 = pd.read_csv('ANN_plus_tr_3.csv')\n",
    "tr4 = pd.read_csv('ANN_plus_tr_4.csv')\n",
    "tr5 = pd.read_csv('ANN_plus_tr_5.csv')\n",
    "tr = pd.concat([tr1,tr2,tr3,tr4,tr5], axis=0)\n",
    "\n",
    "ts.to_csv('ANN_plus_ts.csv')\n",
    "tr.to_csv('ANN_plus_tr.csv')"
   ]
  },
  {
   "cell_type": "code",
   "execution_count": null,
   "metadata": {},
   "outputs": [],
   "source": []
  }
 ],
 "metadata": {
  "kernelspec": {
   "display_name": "Python 3",
   "language": "python",
   "name": "python3"
  },
  "language_info": {
   "codemirror_mode": {
    "name": "ipython",
    "version": 3
   },
   "file_extension": ".py",
   "mimetype": "text/x-python",
   "name": "python",
   "nbconvert_exporter": "python",
   "pygments_lexer": "ipython3",
   "version": "3.7.4"
  }
 },
 "nbformat": 4,
 "nbformat_minor": 4
}
