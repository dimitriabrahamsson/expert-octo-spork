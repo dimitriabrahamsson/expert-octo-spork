{
 "cells": [
  {
   "cell_type": "code",
   "execution_count": 99,
   "metadata": {},
   "outputs": [],
   "source": [
    "import pandas as pd\n",
    "import numpy as np"
   ]
  },
  {
   "cell_type": "code",
   "execution_count": 100,
   "metadata": {},
   "outputs": [],
   "source": [
    "dataset = pd.read_csv('ion_.csv')\n",
    "dataset = dataset.dropna()"
   ]
  },
  {
   "cell_type": "code",
   "execution_count": 101,
   "metadata": {},
   "outputs": [
    {
     "data": {
      "text/html": [
       "<div>\n",
       "<style scoped>\n",
       "    .dataframe tbody tr th:only-of-type {\n",
       "        vertical-align: middle;\n",
       "    }\n",
       "\n",
       "    .dataframe tbody tr th {\n",
       "        vertical-align: top;\n",
       "    }\n",
       "\n",
       "    .dataframe thead th {\n",
       "        text-align: right;\n",
       "    }\n",
       "</style>\n",
       "<table border=\"1\" class=\"dataframe\">\n",
       "  <thead>\n",
       "    <tr style=\"text-align: right;\">\n",
       "      <th></th>\n",
       "      <th>E QSPR</th>\n",
       "      <th>S QSPR</th>\n",
       "      <th>A QSPR</th>\n",
       "      <th>B QSPR</th>\n",
       "      <th>V</th>\n",
       "      <th>L QSPR</th>\n",
       "      <th>Molecular_weight</th>\n",
       "      <th>LogP</th>\n",
       "      <th>Number_of_HBA_1</th>\n",
       "      <th>Number_of_HBA_2</th>\n",
       "      <th>...</th>\n",
       "      <th>RCHO</th>\n",
       "      <th>RCOR</th>\n",
       "      <th>RCOOH</th>\n",
       "      <th>RCOOR</th>\n",
       "      <th>ROR</th>\n",
       "      <th>RCCH</th>\n",
       "      <th>RCN</th>\n",
       "      <th>RINGS</th>\n",
       "      <th>AROMATIC</th>\n",
       "      <th>log RRF</th>\n",
       "    </tr>\n",
       "  </thead>\n",
       "  <tbody>\n",
       "    <tr>\n",
       "      <th>0</th>\n",
       "      <td>0.41</td>\n",
       "      <td>1.05</td>\n",
       "      <td>0.74</td>\n",
       "      <td>1.00</td>\n",
       "      <td>0.7055</td>\n",
       "      <td>3.110</td>\n",
       "      <td>88.1</td>\n",
       "      <td>1.8275</td>\n",
       "      <td>7</td>\n",
       "      <td>2</td>\n",
       "      <td>...</td>\n",
       "      <td>0</td>\n",
       "      <td>0</td>\n",
       "      <td>1</td>\n",
       "      <td>0</td>\n",
       "      <td>0</td>\n",
       "      <td>0</td>\n",
       "      <td>0</td>\n",
       "      <td>0</td>\n",
       "      <td>0</td>\n",
       "      <td>-3.298432</td>\n",
       "    </tr>\n",
       "    <tr>\n",
       "      <th>1</th>\n",
       "      <td>0.35</td>\n",
       "      <td>0.89</td>\n",
       "      <td>0.73</td>\n",
       "      <td>1.00</td>\n",
       "      <td>0.7055</td>\n",
       "      <td>2.966</td>\n",
       "      <td>88.1</td>\n",
       "      <td>1.8275</td>\n",
       "      <td>7</td>\n",
       "      <td>2</td>\n",
       "      <td>...</td>\n",
       "      <td>0</td>\n",
       "      <td>0</td>\n",
       "      <td>1</td>\n",
       "      <td>0</td>\n",
       "      <td>0</td>\n",
       "      <td>0</td>\n",
       "      <td>0</td>\n",
       "      <td>0</td>\n",
       "      <td>0</td>\n",
       "      <td>-3.225483</td>\n",
       "    </tr>\n",
       "    <tr>\n",
       "      <th>2</th>\n",
       "      <td>0.35</td>\n",
       "      <td>1.05</td>\n",
       "      <td>0.74</td>\n",
       "      <td>1.00</td>\n",
       "      <td>0.8464</td>\n",
       "      <td>3.583</td>\n",
       "      <td>102.0</td>\n",
       "      <td>2.5343</td>\n",
       "      <td>9</td>\n",
       "      <td>2</td>\n",
       "      <td>...</td>\n",
       "      <td>0</td>\n",
       "      <td>0</td>\n",
       "      <td>1</td>\n",
       "      <td>0</td>\n",
       "      <td>0</td>\n",
       "      <td>0</td>\n",
       "      <td>0</td>\n",
       "      <td>0</td>\n",
       "      <td>0</td>\n",
       "      <td>-3.044312</td>\n",
       "    </tr>\n",
       "    <tr>\n",
       "      <th>3</th>\n",
       "      <td>0.95</td>\n",
       "      <td>1.09</td>\n",
       "      <td>0.63</td>\n",
       "      <td>1.24</td>\n",
       "      <td>0.9179</td>\n",
       "      <td>4.987</td>\n",
       "      <td>111.0</td>\n",
       "      <td>2.6765</td>\n",
       "      <td>10</td>\n",
       "      <td>1</td>\n",
       "      <td>...</td>\n",
       "      <td>0</td>\n",
       "      <td>0</td>\n",
       "      <td>0</td>\n",
       "      <td>0</td>\n",
       "      <td>0</td>\n",
       "      <td>0</td>\n",
       "      <td>0</td>\n",
       "      <td>1</td>\n",
       "      <td>1</td>\n",
       "      <td>-2.954677</td>\n",
       "    </tr>\n",
       "    <tr>\n",
       "      <th>4</th>\n",
       "      <td>1.78</td>\n",
       "      <td>1.61</td>\n",
       "      <td>1.19</td>\n",
       "      <td>1.32</td>\n",
       "      <td>0.9816</td>\n",
       "      <td>7.180</td>\n",
       "      <td>151.0</td>\n",
       "      <td>0.7890</td>\n",
       "      <td>9</td>\n",
       "      <td>4</td>\n",
       "      <td>...</td>\n",
       "      <td>0</td>\n",
       "      <td>0</td>\n",
       "      <td>0</td>\n",
       "      <td>0</td>\n",
       "      <td>0</td>\n",
       "      <td>0</td>\n",
       "      <td>0</td>\n",
       "      <td>1</td>\n",
       "      <td>1</td>\n",
       "      <td>-2.950782</td>\n",
       "    </tr>\n",
       "  </tbody>\n",
       "</table>\n",
       "<p>5 rows × 66 columns</p>\n",
       "</div>"
      ],
      "text/plain": [
       "   E QSPR  S QSPR  A QSPR  B QSPR       V  L QSPR  Molecular_weight    LogP  \\\n",
       "0    0.41    1.05    0.74    1.00  0.7055   3.110              88.1  1.8275   \n",
       "1    0.35    0.89    0.73    1.00  0.7055   2.966              88.1  1.8275   \n",
       "2    0.35    1.05    0.74    1.00  0.8464   3.583             102.0  2.5343   \n",
       "3    0.95    1.09    0.63    1.24  0.9179   4.987             111.0  2.6765   \n",
       "4    1.78    1.61    1.19    1.32  0.9816   7.180             151.0  0.7890   \n",
       "\n",
       "   Number_of_HBA_1  Number_of_HBA_2  ...  RCHO  RCOR  RCOOH  RCOOR  ROR  RCCH  \\\n",
       "0                7                2  ...     0     0      1      0    0     0   \n",
       "1                7                2  ...     0     0      1      0    0     0   \n",
       "2                9                2  ...     0     0      1      0    0     0   \n",
       "3               10                1  ...     0     0      0      0    0     0   \n",
       "4                9                4  ...     0     0      0      0    0     0   \n",
       "\n",
       "   RCN  RINGS  AROMATIC   log RRF  \n",
       "0    0      0         0 -3.298432  \n",
       "1    0      0         0 -3.225483  \n",
       "2    0      0         0 -3.044312  \n",
       "3    0      1         1 -2.954677  \n",
       "4    0      1         1 -2.950782  \n",
       "\n",
       "[5 rows x 66 columns]"
      ]
     },
     "execution_count": 101,
     "metadata": {},
     "output_type": "execute_result"
    }
   ],
   "source": [
    "dataset.head()"
   ]
  },
  {
   "cell_type": "code",
   "execution_count": 102,
   "metadata": {},
   "outputs": [],
   "source": [
    "X = dataset.iloc[:, 0:65].values\n",
    "y = dataset.iloc[:, 65].values"
   ]
  },
  {
   "cell_type": "code",
   "execution_count": 103,
   "metadata": {},
   "outputs": [],
   "source": [
    "from sklearn.model_selection import train_test_split\n",
    "\n",
    "X_train, X_test, y_train, y_test = train_test_split(X, y, test_size=0.2, random_state=None)"
   ]
  },
  {
   "cell_type": "code",
   "execution_count": 104,
   "metadata": {},
   "outputs": [],
   "source": [
    "from sklearn.preprocessing import StandardScaler\n",
    "\n",
    "sc = StandardScaler()\n",
    "X_train = sc.fit_transform(X_train)\n",
    "X_test = sc.transform(X_test)"
   ]
  },
  {
   "cell_type": "code",
   "execution_count": 105,
   "metadata": {},
   "outputs": [],
   "source": [
    "from sklearn.ensemble import RandomForestRegressor\n",
    "\n",
    "regressor = RandomForestRegressor(n_estimators=500, random_state=0)\n",
    "regressor.fit(X_train, y_train)\n",
    "y_pred = regressor.predict(X_test).flatten()"
   ]
  },
  {
   "cell_type": "code",
   "execution_count": 106,
   "metadata": {},
   "outputs": [
    {
     "name": "stdout",
     "output_type": "stream",
     "text": [
      "Mean Absolute Error: 0.22830353113560908\n",
      "Mean Squared Error: 0.1196799550229138\n",
      "Root Mean Squared Error: 0.34594790796146435\n"
     ]
    }
   ],
   "source": [
    "from sklearn import metrics\n",
    "\n",
    "print('Mean Absolute Error:', metrics.mean_absolute_error(y_test, y_pred))\n",
    "print('Mean Squared Error:', metrics.mean_squared_error(y_test, y_pred))\n",
    "print('Root Mean Squared Error:', np.sqrt(metrics.mean_squared_error(y_test, y_pred)))"
   ]
  },
  {
   "cell_type": "code",
   "execution_count": 107,
   "metadata": {},
   "outputs": [
    {
     "data": {
      "image/png": "[encoded data removed]",
      "text/plain": [
       "<Figure size 432x288 with 1 Axes>"
      ]
     },
     "metadata": {
      "needs_background": "light"
     },
     "output_type": "display_data"
    }
   ],
   "source": [
    "import matplotlib.pyplot as plt\n",
    "plt.scatter(y_test, y_pred)\n",
    "plt.xlabel('True Values')\n",
    "plt.ylabel('Predictions')\n",
    "plt.axis('equal')\n",
    "plt.xlim(plt.xlim())\n",
    "plt.ylim(plt.ylim())\n",
    "_ = plt.plot([-100, 100], [-100, 100])\n",
    "plt.show()"
   ]
  },
  {
   "cell_type": "code",
   "execution_count": 108,
   "metadata": {},
   "outputs": [
    {
     "name": "stdout",
     "output_type": "stream",
     "text": [
      "    predicted_values  true_values\n",
      "0          -1.518605    -2.527244\n",
      "1          -2.349459    -2.153045\n",
      "2          -3.055789    -3.298432\n",
      "3          -2.043092    -2.079877\n",
      "4          -1.633240    -1.906578\n",
      "5          -1.839970    -1.806875\n",
      "6          -2.402237    -2.542118\n",
      "7          -2.187117    -2.551294\n",
      "8          -2.685082    -2.954677\n",
      "9          -1.389396    -1.253366\n",
      "10         -1.910652    -1.896196\n",
      "11         -2.577471    -2.602060\n"
     ]
    }
   ],
   "source": [
    "import pandas as pd\n",
    "df = pd.DataFrame({'predicted_values':y_pred, 'true_values':y_test,})\n",
    "print(df)"
   ]
  },
  {
   "cell_type": "code",
   "execution_count": 109,
   "metadata": {},
   "outputs": [],
   "source": [
    "df.to_csv('forestplus_ts_5.csv')"
   ]
  },
  {
   "cell_type": "code",
   "execution_count": null,
   "metadata": {},
   "outputs": [],
   "source": []
  }
 ],
 "metadata": {
  "kernelspec": {
   "display_name": "Python 3",
   "language": "python",
   "name": "python3"
  },
  "language_info": {
   "codemirror_mode": {
    "name": "ipython",
    "version": 3
   },
   "file_extension": ".py",
   "mimetype": "text/x-python",
   "name": "python",
   "nbconvert_exporter": "python",
   "pygments_lexer": "ipython3",
   "version": "3.7.3"
  }
 },
 "nbformat": 4,
 "nbformat_minor": 2
}
