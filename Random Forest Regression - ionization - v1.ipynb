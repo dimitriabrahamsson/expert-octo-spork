{
 "cells": [
  {
   "cell_type": "code",
   "execution_count": 225,
   "metadata": {},
   "outputs": [],
   "source": [
    "import pandas as pd\n",
    "import numpy as np"
   ]
  },
  {
   "cell_type": "code",
   "execution_count": 226,
   "metadata": {},
   "outputs": [],
   "source": [
    "dataset = pd.read_csv('ion_.csv')\n",
    "dataset = dataset.dropna()"
   ]
  },
  {
   "cell_type": "code",
   "execution_count": 227,
   "metadata": {},
   "outputs": [
    {
     "data": {
      "text/html": [
       "<div>\n",
       "<style scoped>\n",
       "    .dataframe tbody tr th:only-of-type {\n",
       "        vertical-align: middle;\n",
       "    }\n",
       "\n",
       "    .dataframe tbody tr th {\n",
       "        vertical-align: top;\n",
       "    }\n",
       "\n",
       "    .dataframe thead th {\n",
       "        text-align: right;\n",
       "    }\n",
       "</style>\n",
       "<table border=\"1\" class=\"dataframe\">\n",
       "  <thead>\n",
       "    <tr style=\"text-align: right;\">\n",
       "      <th></th>\n",
       "      <th>E QSPR</th>\n",
       "      <th>S QSPR</th>\n",
       "      <th>A QSPR</th>\n",
       "      <th>B QSPR</th>\n",
       "      <th>V</th>\n",
       "      <th>L QSPR</th>\n",
       "      <th>MW</th>\n",
       "      <th>Ncharges</th>\n",
       "      <th>C</th>\n",
       "      <th>N</th>\n",
       "      <th>...</th>\n",
       "      <th>RCHO</th>\n",
       "      <th>RCOR</th>\n",
       "      <th>RCOOH</th>\n",
       "      <th>RCOOR</th>\n",
       "      <th>ROR</th>\n",
       "      <th>RCCH</th>\n",
       "      <th>RCN</th>\n",
       "      <th>RINGS</th>\n",
       "      <th>AROMATIC</th>\n",
       "      <th>log RRF</th>\n",
       "    </tr>\n",
       "  </thead>\n",
       "  <tbody>\n",
       "    <tr>\n",
       "      <th>0</th>\n",
       "      <td>0.41</td>\n",
       "      <td>1.05</td>\n",
       "      <td>0.74</td>\n",
       "      <td>1.00</td>\n",
       "      <td>0.7055</td>\n",
       "      <td>3.110</td>\n",
       "      <td>82.0376</td>\n",
       "      <td>0</td>\n",
       "      <td>3</td>\n",
       "      <td>1</td>\n",
       "      <td>...</td>\n",
       "      <td>0</td>\n",
       "      <td>0</td>\n",
       "      <td>1</td>\n",
       "      <td>0</td>\n",
       "      <td>0</td>\n",
       "      <td>0</td>\n",
       "      <td>0</td>\n",
       "      <td>0</td>\n",
       "      <td>0</td>\n",
       "      <td>-3.298432</td>\n",
       "    </tr>\n",
       "    <tr>\n",
       "      <th>1</th>\n",
       "      <td>0.35</td>\n",
       "      <td>0.89</td>\n",
       "      <td>0.73</td>\n",
       "      <td>1.00</td>\n",
       "      <td>0.7055</td>\n",
       "      <td>2.966</td>\n",
       "      <td>82.0376</td>\n",
       "      <td>0</td>\n",
       "      <td>3</td>\n",
       "      <td>1</td>\n",
       "      <td>...</td>\n",
       "      <td>0</td>\n",
       "      <td>0</td>\n",
       "      <td>1</td>\n",
       "      <td>0</td>\n",
       "      <td>0</td>\n",
       "      <td>0</td>\n",
       "      <td>0</td>\n",
       "      <td>0</td>\n",
       "      <td>0</td>\n",
       "      <td>-3.225483</td>\n",
       "    </tr>\n",
       "    <tr>\n",
       "      <th>2</th>\n",
       "      <td>0.35</td>\n",
       "      <td>1.05</td>\n",
       "      <td>0.74</td>\n",
       "      <td>1.00</td>\n",
       "      <td>0.8464</td>\n",
       "      <td>3.583</td>\n",
       "      <td>94.0483</td>\n",
       "      <td>0</td>\n",
       "      <td>4</td>\n",
       "      <td>1</td>\n",
       "      <td>...</td>\n",
       "      <td>0</td>\n",
       "      <td>0</td>\n",
       "      <td>1</td>\n",
       "      <td>0</td>\n",
       "      <td>0</td>\n",
       "      <td>0</td>\n",
       "      <td>0</td>\n",
       "      <td>0</td>\n",
       "      <td>0</td>\n",
       "      <td>-3.044312</td>\n",
       "    </tr>\n",
       "    <tr>\n",
       "      <th>3</th>\n",
       "      <td>0.95</td>\n",
       "      <td>1.09</td>\n",
       "      <td>0.63</td>\n",
       "      <td>1.24</td>\n",
       "      <td>0.9179</td>\n",
       "      <td>4.987</td>\n",
       "      <td>102.0736</td>\n",
       "      <td>0</td>\n",
       "      <td>5</td>\n",
       "      <td>3</td>\n",
       "      <td>...</td>\n",
       "      <td>0</td>\n",
       "      <td>0</td>\n",
       "      <td>0</td>\n",
       "      <td>0</td>\n",
       "      <td>0</td>\n",
       "      <td>0</td>\n",
       "      <td>0</td>\n",
       "      <td>1</td>\n",
       "      <td>1</td>\n",
       "      <td>-2.954677</td>\n",
       "    </tr>\n",
       "    <tr>\n",
       "      <th>4</th>\n",
       "      <td>1.78</td>\n",
       "      <td>1.61</td>\n",
       "      <td>1.19</td>\n",
       "      <td>1.32</td>\n",
       "      <td>0.9816</td>\n",
       "      <td>7.180</td>\n",
       "      <td>106.0623</td>\n",
       "      <td>0</td>\n",
       "      <td>4</td>\n",
       "      <td>3</td>\n",
       "      <td>...</td>\n",
       "      <td>0</td>\n",
       "      <td>0</td>\n",
       "      <td>0</td>\n",
       "      <td>0</td>\n",
       "      <td>0</td>\n",
       "      <td>0</td>\n",
       "      <td>0</td>\n",
       "      <td>1</td>\n",
       "      <td>1</td>\n",
       "      <td>-2.950782</td>\n",
       "    </tr>\n",
       "  </tbody>\n",
       "</table>\n",
       "<p>5 rows × 28 columns</p>\n",
       "</div>"
      ],
      "text/plain": [
       "   E QSPR  S QSPR  A QSPR  B QSPR       V  L QSPR        MW  Ncharges  C  N  \\\n",
       "0    0.41    1.05    0.74    1.00  0.7055   3.110   82.0376         0  3  1   \n",
       "1    0.35    0.89    0.73    1.00  0.7055   2.966   82.0376         0  3  1   \n",
       "2    0.35    1.05    0.74    1.00  0.8464   3.583   94.0483         0  4  1   \n",
       "3    0.95    1.09    0.63    1.24  0.9179   4.987  102.0736         0  5  3   \n",
       "4    1.78    1.61    1.19    1.32  0.9816   7.180  106.0623         0  4  3   \n",
       "\n",
       "   ...  RCHO  RCOR  RCOOH  RCOOR  ROR  RCCH  RCN  RINGS  AROMATIC   log RRF  \n",
       "0  ...     0     0      1      0    0     0    0      0         0 -3.298432  \n",
       "1  ...     0     0      1      0    0     0    0      0         0 -3.225483  \n",
       "2  ...     0     0      1      0    0     0    0      0         0 -3.044312  \n",
       "3  ...     0     0      0      0    0     0    0      1         1 -2.954677  \n",
       "4  ...     0     0      0      0    0     0    0      1         1 -2.950782  \n",
       "\n",
       "[5 rows x 28 columns]"
      ]
     },
     "execution_count": 227,
     "metadata": {},
     "output_type": "execute_result"
    }
   ],
   "source": [
    "dataset.head()"
   ]
  },
  {
   "cell_type": "code",
   "execution_count": 228,
   "metadata": {},
   "outputs": [],
   "source": [
    "X = dataset.iloc[:, 0:27].values\n",
    "y = dataset.iloc[:, 27].values"
   ]
  },
  {
   "cell_type": "code",
   "execution_count": 229,
   "metadata": {},
   "outputs": [],
   "source": [
    "from sklearn.model_selection import train_test_split\n",
    "\n",
    "X_train, X_test, y_train, y_test = train_test_split(X, y, test_size=0.2, random_state=None)"
   ]
  },
  {
   "cell_type": "code",
   "execution_count": 230,
   "metadata": {},
   "outputs": [],
   "source": [
    "from sklearn.preprocessing import StandardScaler\n",
    "\n",
    "sc = StandardScaler()\n",
    "X_train = sc.fit_transform(X_train)\n",
    "X_test = sc.transform(X_test)"
   ]
  },
  {
   "cell_type": "code",
   "execution_count": 231,
   "metadata": {},
   "outputs": [
    {
     "data": {
      "text/plain": [
       "RandomForestRegressor(bootstrap=True, criterion='mse', max_depth=None,\n",
       "                      max_features='auto', max_leaf_nodes=None,\n",
       "                      min_impurity_decrease=0.0, min_impurity_split=None,\n",
       "                      min_samples_leaf=1, min_samples_split=2,\n",
       "                      min_weight_fraction_leaf=0.0, n_estimators=50,\n",
       "                      n_jobs=None, oob_score=False, random_state=0, verbose=0,\n",
       "                      warm_start=False)"
      ]
     },
     "execution_count": 231,
     "metadata": {},
     "output_type": "execute_result"
    }
   ],
   "source": [
    "from sklearn.ensemble import RandomForestRegressor\n",
    "\n",
    "regressor = RandomForestRegressor(n_estimators=50, random_state=0)\n",
    "regressor.fit(X_train, y_train)\n"
   ]
  },
  {
   "cell_type": "code",
   "execution_count": 232,
   "metadata": {},
   "outputs": [],
   "source": [
    "#Predictions for Training set\n",
    "y_pred = regressor.predict(X_train).flatten()"
   ]
  },
  {
   "cell_type": "code",
   "execution_count": 233,
   "metadata": {},
   "outputs": [
    {
     "name": "stdout",
     "output_type": "stream",
     "text": [
      "Mean Absolute Error: 0.05798564581733308\n",
      "Mean Squared Error: 0.007719930176693201\n",
      "Root Mean Squared Error: 0.0878631332055328\n"
     ]
    }
   ],
   "source": [
    "from sklearn import metrics\n",
    "\n",
    "print('Mean Absolute Error:', metrics.mean_absolute_error(y_train, y_pred))\n",
    "print('Mean Squared Error:', metrics.mean_squared_error(y_train, y_pred))\n",
    "print('Root Mean Squared Error:', np.sqrt(metrics.mean_squared_error(y_train, y_pred)))"
   ]
  },
  {
   "cell_type": "code",
   "execution_count": 234,
   "metadata": {},
   "outputs": [
    {
     "data": {
      "image/png": "[encoded data removed]",
      "text/plain": [
       "<Figure size 432x288 with 1 Axes>"
      ]
     },
     "metadata": {
      "needs_background": "light"
     },
     "output_type": "display_data"
    }
   ],
   "source": [
    "import matplotlib.pyplot as plt\n",
    "plt.scatter(y_train, y_pred)\n",
    "plt.xlabel('True Values')\n",
    "plt.ylabel('Predictions')\n",
    "plt.axis('equal')\n",
    "plt.xlim(plt.xlim())\n",
    "plt.ylim(plt.ylim())\n",
    "_ = plt.plot([-100, 100], [-100, 100])\n",
    "plt.show()"
   ]
  },
  {
   "cell_type": "code",
   "execution_count": 235,
   "metadata": {
    "scrolled": false
   },
   "outputs": [
    {
     "name": "stdout",
     "output_type": "stream",
     "text": [
      "    predicted_values  true_values\n",
      "0          -2.459702    -2.542118\n",
      "1          -1.729901    -1.497573\n",
      "2          -1.670885    -1.647817\n",
      "3          -1.728458    -1.747147\n",
      "4          -1.690663    -1.703335\n",
      "5          -1.651019    -1.718967\n",
      "6          -1.115338    -1.051587\n",
      "7          -2.854060    -2.954677\n",
      "8          -1.667781    -1.645892\n",
      "9          -1.834011    -1.804100\n",
      "10         -1.879378    -1.924453\n",
      "11         -2.114860    -2.074688\n",
      "12         -2.474264    -2.551294\n",
      "13         -2.342681    -2.492144\n",
      "14         -1.526634    -1.525784\n",
      "15         -0.776628    -0.440093\n",
      "16         -1.319471    -1.280669\n",
      "17         -1.533663    -1.533132\n",
      "18         -2.759559    -2.774691\n",
      "19         -2.604167    -2.640165\n",
      "20         -1.586598    -1.609065\n",
      "21         -2.018130    -2.107349\n",
      "22         -1.282611    -1.281498\n",
      "23         -3.207562    -3.225483\n",
      "24         -1.771424    -1.806875\n",
      "25         -3.229495    -3.298432\n",
      "26         -2.311468    -2.143876\n",
      "27         -1.830488    -1.793174\n",
      "28         -1.531082    -1.549751\n",
      "29         -1.442282    -1.531653\n",
      "30         -1.186545    -1.176526\n",
      "31         -1.337494    -1.253366\n",
      "32         -2.786671    -2.725842\n",
      "33         -1.555018    -1.525784\n",
      "34         -2.359830    -2.391474\n",
      "35         -1.906018    -1.896196\n",
      "36         -1.855106    -1.906578\n",
      "37         -2.160731    -2.125518\n",
      "38         -1.856810    -1.935542\n",
      "39         -1.571440    -1.772113\n",
      "40         -2.566805    -2.578396\n",
      "41         -2.131677    -2.115771\n",
      "42         -1.103950    -1.109020\n",
      "43         -2.582947    -2.602060\n",
      "44         -3.069291    -3.044312\n"
     ]
    }
   ],
   "source": [
    "import pandas as pd\n",
    "df = pd.DataFrame({'predicted_values':y_pred, 'true_values':y_train,})\n",
    "print(df)"
   ]
  },
  {
   "cell_type": "code",
   "execution_count": 236,
   "metadata": {},
   "outputs": [],
   "source": [
    "df.to_csv('forest_plus_tr_5.csv')"
   ]
  },
  {
   "cell_type": "code",
   "execution_count": 174,
   "metadata": {},
   "outputs": [],
   "source": [
    "#Predictions for testing set\n",
    "y_pred = regressor.predict(X_test).flatten()"
   ]
  },
  {
   "cell_type": "code",
   "execution_count": 175,
   "metadata": {},
   "outputs": [
    {
     "name": "stdout",
     "output_type": "stream",
     "text": [
      "Mean Absolute Error: 0.1775259099508336\n",
      "Mean Squared Error: 0.06870059675298208\n",
      "Root Mean Squared Error: 0.26210798681646863\n"
     ]
    }
   ],
   "source": [
    "from sklearn import metrics\n",
    "\n",
    "print('Mean Absolute Error:', metrics.mean_absolute_error(y_test, y_pred))\n",
    "print('Mean Squared Error:', metrics.mean_squared_error(y_test, y_pred))\n",
    "print('Root Mean Squared Error:', np.sqrt(metrics.mean_squared_error(y_test, y_pred)))"
   ]
  },
  {
   "cell_type": "code",
   "execution_count": 146,
   "metadata": {},
   "outputs": [
    {
     "data": {
      "image/png": "[encoded data removed]",
      "text/plain": [
       "<Figure size 432x288 with 1 Axes>"
      ]
     },
     "metadata": {
      "needs_background": "light"
     },
     "output_type": "display_data"
    }
   ],
   "source": [
    "import matplotlib.pyplot as plt\n",
    "plt.scatter(y_test, y_pred)\n",
    "plt.xlabel('True Values')\n",
    "plt.ylabel('Predictions')\n",
    "plt.axis('equal')\n",
    "plt.xlim(plt.xlim())\n",
    "plt.ylim(plt.ylim())\n",
    "_ = plt.plot([-100, 100], [-100, 100])\n",
    "plt.show()"
   ]
  },
  {
   "cell_type": "code",
   "execution_count": 147,
   "metadata": {
    "scrolled": false
   },
   "outputs": [
    {
     "name": "stdout",
     "output_type": "stream",
     "text": [
      "    predicted_values  true_values\n",
      "0          -1.486703    -1.525784\n",
      "1          -2.820063    -3.044312\n",
      "2          -1.114633    -1.358526\n",
      "3          -2.801326    -2.725842\n",
      "4          -2.523906    -2.391474\n",
      "5          -2.442893    -2.640165\n",
      "6          -1.428054    -1.531653\n",
      "7          -1.703322    -1.703335\n",
      "8          -1.666842    -1.935542\n",
      "9          -2.631304    -2.578396\n",
      "10         -1.143165    -0.440093\n",
      "11         -2.847144    -3.298432\n"
     ]
    }
   ],
   "source": [
    "import pandas as pd\n",
    "df = pd.DataFrame({'predicted_values':y_pred, 'true_values':y_test,})\n",
    "print(df)"
   ]
  },
  {
   "cell_type": "code",
   "execution_count": 109,
   "metadata": {},
   "outputs": [],
   "source": [
    "df.to_csv('forestplus_ts_5.csv')"
   ]
  },
  {
   "cell_type": "code",
   "execution_count": null,
   "metadata": {},
   "outputs": [],
   "source": [
    "#Predictions for testing set\n",
    "y_pred = regressor.predict(X_test).flatten()\n",
    "\n",
    "from sklearn import metrics\n",
    "\n",
    "print('Mean Absolute Error:', metrics.mean_absolute_error(y_test, y_pred))\n",
    "print('Mean Squared Error:', metrics.mean_squared_error(y_test, y_pred))\n",
    "print('Root Mean Squared Error:', np.sqrt(metrics.mean_squared_error(y_test, y_pred)))\n",
    "\n",
    "import matplotlib.pyplot as plt\n",
    "plt.scatter(y_test, y_pred)\n",
    "plt.xlabel('True Values')\n",
    "plt.ylabel('Predictions')\n",
    "plt.axis('equal')\n",
    "plt.xlim(plt.xlim())\n",
    "plt.ylim(plt.ylim())\n",
    "_ = plt.plot([-100, 100], [-100, 100])\n",
    "plt.show()\n",
    "\n",
    "import pandas as pd\n",
    "df = pd.DataFrame({'predicted_values':y_pred, 'true_values':y_test,})\n",
    "print(df)\n",
    "\n",
    "df.to_csv('forestplus_ts_5.csv')"
   ]
  }
 ],
 "metadata": {
  "kernelspec": {
   "display_name": "Python 3",
   "language": "python",
   "name": "python3"
  },
  "language_info": {
   "codemirror_mode": {
    "name": "ipython",
    "version": 3
   },
   "file_extension": ".py",
   "mimetype": "text/x-python",
   "name": "python",
   "nbconvert_exporter": "python",
   "pygments_lexer": "ipython3",
   "version": "3.7.3"
  }
 },
 "nbformat": 4,
 "nbformat_minor": 2
}
